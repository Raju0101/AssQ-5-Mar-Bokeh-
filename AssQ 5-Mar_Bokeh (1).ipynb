{
 "cells": [
  {
   "cell_type": "code",
   "execution_count": 1,
   "id": "2afafeaa-5dcc-462e-babf-f433197df4d3",
   "metadata": {},
   "outputs": [],
   "source": [
    "# Assignment 5-March, \"Bokeh\""
   ]
  },
  {
   "cell_type": "code",
   "execution_count": 2,
   "id": "18b83f7f-ea63-4fa4-a1c5-ea4e59267489",
   "metadata": {},
   "outputs": [],
   "source": [
    "# Q1. How can you create a Bokeh plot using Python code?"
   ]
  },
  {
   "cell_type": "code",
   "execution_count": null,
   "id": "874a1768-2be4-4649-96ca-9c42cc22d09f",
   "metadata": {},
   "outputs": [],
   "source": [
    "import bokeh.io\n",
    "import bokeh.plotting\n",
    "bokeh.io.output_notebook()\n",
    "pip install bokeh"
   ]
  },
  {
   "cell_type": "code",
   "execution_count": null,
   "id": "b9aef94b-6372-4f46-990f-047ae90e75d4",
   "metadata": {},
   "outputs": [],
   "source": []
  },
  {
   "cell_type": "code",
   "execution_count": 2,
   "id": "17d3a8e7-2347-4e04-ba21-cd835008fbb8",
   "metadata": {},
   "outputs": [],
   "source": [
    "# Q2. What are glyphs in Bokeh, and how can you add them to a Bokeh plot? Explain with an example."
   ]
  },
  {
   "cell_type": "code",
   "execution_count": null,
   "id": "0c9ed825-4cc7-4eb2-83f8-a4c63f8cce8f",
   "metadata": {},
   "outputs": [],
   "source": [
    "# glyphs:-\n",
    "#  Glyphs are nothing but visual shapes that are drawn to represent the data such as \n",
    "# circles, squares, lines, rectangles, etc.\n",
    "# Glyphs are the 'basic visual building blocks of Bokeh plots and it refer to vectorised \n",
    "# graphical shapes or markers that are used to represent our data."
   ]
  },
  {
   "cell_type": "code",
   "execution_count": 5,
   "id": "e92a8fd7-5026-4b2c-9cf4-87cf96115971",
   "metadata": {},
   "outputs": [],
   "source": [
    "\n",
    "from bokeh.plotting import figure, show\n",
    "from bokeh.io import output_file\n",
    " \n",
    "# prepare some data\n",
    "x = [1, 2, 4, 6, 7]\n",
    "y = [7, 6, 3, 9, 10]\n",
    " \n",
    "# create a new plot with figure function\n",
    "p = figure(title=\"Circle Glyph\", plot_width=450, plot_height=400)\n",
    " \n",
    "# create circle glyph\n",
    "p.circle(x=x, y=y, size=25, fill_color=\"red\")\n",
    "p.circle_cross(x=[2, 4, 6, 8], y=[5, 8, 9, 11], size=25,\n",
    "               fill_color=\"blue\", fill_alpha=0.3, line_width=2)\n",
    "p.circle_x(x=[4, 7, 2, 6], y=[7, 2, 4, 9], size=25,\n",
    "           fill_color=\"green\", fill_alpha=0.6, line_width=2)\n",
    " \n",
    "# show the results\n",
    "output_file('circle.html')\n",
    "show(p)"
   ]
  },
  {
   "cell_type": "code",
   "execution_count": null,
   "id": "3479a839-569c-48f0-8e5d-469759f53d82",
   "metadata": {},
   "outputs": [],
   "source": []
  },
  {
   "cell_type": "code",
   "execution_count": 6,
   "id": "41e5d032-ca00-439e-aa7d-178b6cc1e984",
   "metadata": {},
   "outputs": [],
   "source": [
    "# Q3. How can you customize the appearance of a Bokeh plot, including the axes, title, and legend?"
   ]
  },
  {
   "cell_type": "code",
   "execution_count": 7,
   "id": "fc133a9c-1993-44bc-bb17-de66417186c3",
   "metadata": {},
   "outputs": [],
   "source": [
    "from bokeh.plotting import figure,output_file, show\n",
    "from bokeh.sampledata.iris import flowers\n",
    "\n",
    "output_file('line.html')\n",
    "p = figure(title= \"test flower\")\n",
    "p.xaxis.axis_label = \"x axis\"\n",
    "p.yaxis.axis_label = \"y axis\"\n",
    "\n",
    "p.line(flowers['petal_length'], flowers['petal_width'])\n",
    "show(p)"
   ]
  },
  {
   "cell_type": "code",
   "execution_count": null,
   "id": "db7dac10-713f-443e-9fdc-f410c20ad3f7",
   "metadata": {},
   "outputs": [],
   "source": []
  },
  {
   "cell_type": "code",
   "execution_count": 8,
   "id": "531c5741-8b2f-4ba3-b71b-1017f82c955b",
   "metadata": {},
   "outputs": [],
   "source": [
    "# Q4. What is a Bokeh server, and how can you use it to create interactive\n",
    "# plots that can be updated in real time?"
   ]
  },
  {
   "cell_type": "code",
   "execution_count": null,
   "id": "6f4e2d1b-2564-4b06-b34c-489755bb0e1a",
   "metadata": {},
   "outputs": [],
   "source": [
    "# Bokeh:-\n",
    "# Bokeh server makes it easy to create interactive web applications that connect front-end UI \n",
    "# events to running Python code. Bokeh creates high-level Python models, such as \n",
    "# plots, ranges, axes, and glyphs, and then converts these objects to JSON to\n",
    "# pass them to its client library, BokehJS."
   ]
  },
  {
   "cell_type": "code",
   "execution_count": null,
   "id": "4f77f936-0707-46ab-89b5-340997bf90dd",
   "metadata": {},
   "outputs": [],
   "source": [
    "from flask import Flask, render_template\n",
    "\n",
    "from bokeh.client import pull_session\n",
    "from bokeh.embed import server_session\n",
    "\n",
    "app = Flask(__name__)\n",
    "\n",
    "@app.route('/', methods=['GET'])\n",
    "def bkapp_page():\n",
    "\n",
    "    with pull_session(url=\"http://localhost:5006/sliders\") as session:\n",
    "\n",
    "        # update or customize that session\n",
    "        session.document.roots[0].children[1].title.text = \"Special Sliders For A Specific User!\"\n",
    "\n",
    "        # generate a script to load the customized session\n",
    "        script = server_session(session_id=session.id, url='http://localhost:5006/sliders')\n",
    "\n",
    "        # use the script in the rendered page\n",
    "        return render_template(\"embed.html\", script=script, template=\"Flask\")\n",
    "\n",
    "if __name__ == '__main__':\n",
    "    app.run(port=8080)"
   ]
  },
  {
   "cell_type": "code",
   "execution_count": null,
   "id": "c4d6c631-1006-4bc0-989a-4387c0842866",
   "metadata": {},
   "outputs": [],
   "source": []
  },
  {
   "cell_type": "code",
   "execution_count": null,
   "id": "23e9184d-d4c4-4b09-aa6b-b2f3116e85ec",
   "metadata": {},
   "outputs": [],
   "source": [
    "# Q5. How can you embed a Bokeh plot into a web page or dashboard using Flask or Django?"
   ]
  },
  {
   "cell_type": "code",
   "execution_count": null,
   "id": "9b251690-bad7-447c-a90a-1d904f4faa47",
   "metadata": {},
   "outputs": [],
   "source": [
    "from flask import Flask, render_template\n",
    "\n",
    "from bokeh.client import pull_session\n",
    "from bokeh.embed import server_session\n",
    "\n",
    "app = Flask(__name__)\n",
    "\n",
    "@app.route('/', methods=['GET'])\n",
    "def bkapp_page():\n",
    "\n",
    "    # pull a new session from a running Bokeh server\n",
    "    with pull_session(url=\"http://localhost:5006/sliders\") as session:\n",
    "\n",
    "        # update or customize that session\n",
    "        session.document.roots[0].children[1].title.text = \"Special sliders for a specific user!\"\n",
    "\n",
    "        # generate a script to load the customized session\n",
    "        script = server_session(session_id=session.id, url='http://localhost:5006/sliders')\n",
    "\n",
    "        # use the script in the rendered page\n",
    "        return render_template(\"embed.html\", script=script, template=\"Flask\")\n",
    "\n",
    "if __name__ == '__main__':\n",
    "    app.run(port=8080)"
   ]
  }
 ],
 "metadata": {
  "kernelspec": {
   "display_name": "Python 3 (ipykernel)",
   "language": "python",
   "name": "python3"
  },
  "language_info": {
   "codemirror_mode": {
    "name": "ipython",
    "version": 3
   },
   "file_extension": ".py",
   "mimetype": "text/x-python",
   "name": "python",
   "nbconvert_exporter": "python",
   "pygments_lexer": "ipython3",
   "version": "3.10.6"
  }
 },
 "nbformat": 4,
 "nbformat_minor": 5
}
